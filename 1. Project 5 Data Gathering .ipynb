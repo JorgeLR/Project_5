{
 "cells": [
  {
   "cell_type": "markdown",
   "metadata": {},
   "source": [
    "### Webscraping News API "
   ]
  },
  {
   "cell_type": "code",
   "execution_count": 4,
   "metadata": {},
   "outputs": [],
   "source": [
    "import requests \n",
    "from bs4 import BeautifulSoup\n",
    "import pprint\n",
    "import pandas as pd\n",
    "import numpy as np "
   ]
  },
  {
   "cell_type": "code",
   "execution_count": 4,
   "metadata": {},
   "outputs": [],
   "source": [
    "url = 'https://newsapi.org/v2/everything?'"
   ]
  },
  {
   "cell_type": "code",
   "execution_count": 5,
   "metadata": {},
   "outputs": [],
   "source": [
    "api_key = \"Put your API key here\""
   ]
  },
  {
   "cell_type": "markdown",
   "metadata": {},
   "source": [
    "### Wildfire news 10/29"
   ]
  },
  {
   "cell_type": "code",
   "execution_count": 238,
   "metadata": {},
   "outputs": [],
   "source": [
    "parameters_10_29 = {\n",
    "    'q': 'Wildfire',\n",
    "    'pageSize': 100,\n",
    "    'apiKey': api_key,\n",
    "    'language': 'en',\n",
    "    'from' : '2019-10-29'\n",
    "    \n",
    "}\n",
    "response_10_29 = requests.get(url, params = parameters_10_29)\n",
    "response_json_10_29 = response_10_29.json()"
   ]
  },
  {
   "cell_type": "code",
   "execution_count": 273,
   "metadata": {},
   "outputs": [],
   "source": [
    "#response_json_10_29"
   ]
  },
  {
   "cell_type": "markdown",
   "metadata": {},
   "source": [
    "### Wildfire news 10/26"
   ]
  },
  {
   "cell_type": "code",
   "execution_count": 244,
   "metadata": {},
   "outputs": [],
   "source": [
    "parameters_10_26 = {\n",
    "    'q': 'Wildfire',\n",
    "    'pageSize': 100,\n",
    "    'apiKey': api_key,\n",
    "    'language': 'en',\n",
    "    'from' : '2019-10-26',\n",
    "    \n",
    "    \n",
    "}\n",
    "response_10_26 = requests.get(url, params = parameters_10_26)\n",
    "response_json_10_26 = response_10_26.json()"
   ]
  },
  {
   "cell_type": "code",
   "execution_count": 272,
   "metadata": {},
   "outputs": [],
   "source": [
    "#response_json_10_26"
   ]
  },
  {
   "cell_type": "markdown",
   "metadata": {},
   "source": [
    "### Wildfire news 10/23"
   ]
  },
  {
   "cell_type": "code",
   "execution_count": 246,
   "metadata": {},
   "outputs": [],
   "source": [
    "parameters_10_23 = {\n",
    "    'q': 'Wildfire',\n",
    "    'pageSize': 100,\n",
    "    'apiKey': api_key,\n",
    "    'language': 'en',\n",
    "    'from' : '2019-10-23',\n",
    "    \n",
    "    \n",
    "}\n",
    "response_10_23 = requests.get(url, params = parameters_10_23)\n",
    "response_json_10_23 = response_10_23.json()"
   ]
  },
  {
   "cell_type": "code",
   "execution_count": 271,
   "metadata": {},
   "outputs": [],
   "source": [
    "#response_json_10_23"
   ]
  },
  {
   "cell_type": "markdown",
   "metadata": {},
   "source": [
    "### Wildfire news 10/20"
   ]
  },
  {
   "cell_type": "code",
   "execution_count": 249,
   "metadata": {},
   "outputs": [],
   "source": [
    "parameters_10_20 = {\n",
    "    'q': 'Wildfire',\n",
    "    'pageSize': 100,\n",
    "    'apiKey': api_key,\n",
    "    'language': 'en',\n",
    "    'from' : '2019-10-20',\n",
    "   \n",
    "    \n",
    "}\n",
    "response_10_20 = requests.get(url, params = parameters_10_20)\n",
    "response_json_10_20 = response_10_20.json()"
   ]
  },
  {
   "cell_type": "code",
   "execution_count": 270,
   "metadata": {},
   "outputs": [],
   "source": [
    "#response_json_10_20"
   ]
  },
  {
   "cell_type": "markdown",
   "metadata": {},
   "source": [
    "### Wildfire news 10/17"
   ]
  },
  {
   "cell_type": "code",
   "execution_count": 265,
   "metadata": {},
   "outputs": [],
   "source": [
    "parameters_10_17 = {\n",
    "    'q': 'Wildfire',\n",
    "    'pageSize': 100,\n",
    "    'apiKey': api_key,\n",
    "    'language': 'en',\n",
    "    'from' : '2019-10-20',\n",
    "   \n",
    "    \n",
    "}\n",
    "response_10_17 = requests.get(url, params = parameters_10_17)\n",
    "response_json_10_17 = response_10_17.json()"
   ]
  },
  {
   "cell_type": "code",
   "execution_count": 2,
   "metadata": {},
   "outputs": [],
   "source": [
    "response_json_10_17"
   ]
  },
  {
   "cell_type": "markdown",
   "metadata": {},
   "source": [
    "### Webscraping cleaning "
   ]
  },
  {
   "cell_type": "markdown",
   "metadata": {},
   "source": [
    "#### Seeing the keys we need to access the data "
   ]
  },
  {
   "cell_type": "code",
   "execution_count": 251,
   "metadata": {},
   "outputs": [
    {
     "data": {
      "text/plain": [
       "dict_keys(['status', 'totalResults', 'articles'])"
      ]
     },
     "execution_count": 251,
     "metadata": {},
     "output_type": "execute_result"
    }
   ],
   "source": [
    "response_json.keys()"
   ]
  },
  {
   "cell_type": "markdown",
   "metadata": {},
   "source": [
    "#### Converting the JSON file to an organized readable format "
   ]
  },
  {
   "cell_type": "code",
   "execution_count": 275,
   "metadata": {},
   "outputs": [],
   "source": [
    "wildfire_articles_10_29 = response_json_10_29['articles']\n",
    "wildfire_articles_10_26 = response_json_10_26['articles']\n",
    "wildfire_articles_10_23 = response_json_10_23['articles']\n",
    "wildfire_articles_10_20 = response_json_10_20['articles']\n",
    "wildfire_articles_10_17 = response_json_10_17['articles']"
   ]
  },
  {
   "cell_type": "markdown",
   "metadata": {},
   "source": [
    "#### This function extracts the relevant information from the list of lists "
   ]
  },
  {
   "cell_type": "code",
   "execution_count": 223,
   "metadata": {},
   "outputs": [],
   "source": [
    "def get_articles(file): \n",
    "    article_results = []\n",
    "    \n",
    "    for i in range(len(file)):\n",
    "        article_dict = {}\n",
    "        article_dict['title'] = file[i]['title']\n",
    "        article_dict['author'] = file[i]['author']\n",
    "        article_dict['source'] = file[i]['source']\n",
    "        article_dict['description'] = file[i]['description']\n",
    "        article_dict['content'] = file[i]['content']\n",
    "        article_dict['pub_date'] = file[i]['publishedAt']\n",
    "        article_dict['url'] = file[i][\"url\"]\n",
    "        article_dict['photo_url'] = file[i]['urlToImage']\n",
    "        \n",
    "        \n",
    "        article_results.append(article_dict)\n",
    "    return article_results\n",
    "        \n",
    "    "
   ]
  },
  {
   "cell_type": "markdown",
   "metadata": {},
   "source": [
    "#### Converting the wildfire scrape into customized dataframes "
   ]
  },
  {
   "cell_type": "code",
   "execution_count": 276,
   "metadata": {},
   "outputs": [],
   "source": [
    "wildfire_df_10_29 = pd.DataFrame(get_articles(wildfire_articles_10_29))\n",
    "wildfire_df_10_26 = pd.DataFrame(get_articles(wildfire_articles_10_26))\n",
    "wildfire_df_10_23 = pd.DataFrame(get_articles(wildfire_articles_10_23))\n",
    "wildfire_df_10_20 = pd.DataFrame(get_articles(wildfire_articles_10_20))\n",
    "wildfire_df_10_17 = pd.DataFrame(get_articles(wildfire_articles_10_17))"
   ]
  },
  {
   "cell_type": "markdown",
   "metadata": {},
   "source": [
    "#### Checking the shape of all the dataframes "
   ]
  },
  {
   "cell_type": "code",
   "execution_count": 277,
   "metadata": {},
   "outputs": [
    {
     "name": "stdout",
     "output_type": "stream",
     "text": [
      "(100, 8)\n",
      "(100, 8)\n",
      "(100, 8)\n",
      "(100, 8)\n",
      "(100, 8)\n"
     ]
    }
   ],
   "source": [
    "print(wildfire_df_10_29.shape)\n",
    "print(wildfire_df_10_26.shape)\n",
    "print(wildfire_df_10_23.shape)\n",
    "print(wildfire_df_10_20.shape)\n",
    "print(wildfire_df_10_17.shape)"
   ]
  },
  {
   "cell_type": "markdown",
   "metadata": {},
   "source": [
    "#### This function extracts the media source from the dictionared column \"source\"."
   ]
  },
  {
   "cell_type": "code",
   "execution_count": 230,
   "metadata": {},
   "outputs": [],
   "source": [
    "def source_getter(df):\n",
    "    \n",
    "    source = []\n",
    "    for source_dict in df['source']:\n",
    "        source.append(source_dict['name'])\n",
    "   \n",
    "    df['source'] = source\n",
    "\n",
    "    "
   ]
  },
  {
   "cell_type": "code",
   "execution_count": 278,
   "metadata": {},
   "outputs": [],
   "source": [
    "source_getter(wildfire_df_10_29)\n",
    "source_getter(wildfire_df_10_26)\n",
    "source_getter(wildfire_df_10_23)\n",
    "source_getter(wildfire_df_10_20)\n",
    "source_getter(wildfire_df_10_17)"
   ]
  },
  {
   "cell_type": "markdown",
   "metadata": {},
   "source": [
    "#### This lambda function changed the publication date into something more readable "
   ]
  },
  {
   "cell_type": "code",
   "execution_count": 282,
   "metadata": {},
   "outputs": [],
   "source": [
    "wildfire_df_10_29['pub_date'] = pd.to_datetime(wildfire_df_10_29['pub_date']).apply(lambda x: x.date())\n",
    "wildfire_df_10_26['pub_date'] = pd.to_datetime(wildfire_df_10_26['pub_date']).apply(lambda x: x.date())\n",
    "wildfire_df_10_23['pub_date'] = pd.to_datetime(wildfire_df_10_23['pub_date']).apply(lambda x: x.date())\n",
    "wildfire_df_10_20['pub_date'] = pd.to_datetime(wildfire_df_10_20['pub_date']).apply(lambda x: x.date())\n",
    "wildfire_df_10_17['pub_date'] = pd.to_datetime(wildfire_df_10_17['pub_date']).apply(lambda x: x.date())"
   ]
  },
  {
   "cell_type": "markdown",
   "metadata": {},
   "source": [
    "#### Combining all of the wildfire articles into one dataframe"
   ]
  },
  {
   "cell_type": "code",
   "execution_count": 10,
   "metadata": {},
   "outputs": [],
   "source": [
    "wildfire_df_pt1 = pd.concat([wildfire_df_10_29,wildfire_df_10_26, \n",
    "                                        wildfire_df_10_23, wildfire_df_10_20,\n",
    "                                        wildfire_df_10_17])"
   ]
  },
  {
   "cell_type": "code",
   "execution_count": 8,
   "metadata": {},
   "outputs": [],
   "source": [
    "wildfire_df_pt1.head(3)"
   ]
  },
  {
   "cell_type": "code",
   "execution_count": 5,
   "metadata": {},
   "outputs": [],
   "source": [
    "pd.set_option('display.max_colwidth', -1)"
   ]
  },
  {
   "cell_type": "code",
   "execution_count": null,
   "metadata": {},
   "outputs": [],
   "source": [
    "wildfire_df_pt"
   ]
  },
  {
   "cell_type": "markdown",
   "metadata": {},
   "source": [
    "### Converting Dataframe into CSV"
   ]
  },
  {
   "cell_type": "code",
   "execution_count": 305,
   "metadata": {},
   "outputs": [],
   "source": [
    "wildfire_df_pt1.to_csv('data_project_5/wildfire_df_pt1.csv', index = False)"
   ]
  },
  {
   "cell_type": "code",
   "execution_count": null,
   "metadata": {},
   "outputs": [],
   "source": []
  },
  {
   "cell_type": "code",
   "execution_count": null,
   "metadata": {},
   "outputs": [],
   "source": []
  },
  {
   "cell_type": "code",
   "execution_count": null,
   "metadata": {},
   "outputs": [],
   "source": []
  },
  {
   "cell_type": "code",
   "execution_count": null,
   "metadata": {},
   "outputs": [],
   "source": []
  },
  {
   "cell_type": "code",
   "execution_count": null,
   "metadata": {},
   "outputs": [],
   "source": []
  }
 ],
 "metadata": {
  "kernelspec": {
   "display_name": "Python 3",
   "language": "python",
   "name": "python3"
  },
  "language_info": {
   "codemirror_mode": {
    "name": "ipython",
    "version": 3
   },
   "file_extension": ".py",
   "mimetype": "text/x-python",
   "name": "python",
   "nbconvert_exporter": "python",
   "pygments_lexer": "ipython3",
   "version": "3.7.4"
  }
 },
 "nbformat": 4,
 "nbformat_minor": 2
}
