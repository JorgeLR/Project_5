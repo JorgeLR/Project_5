{
 "cells": [
  {
   "cell_type": "markdown",
   "metadata": {},
   "source": [
    "### Import the Required Libraries "
   ]
  },
  {
   "cell_type": "code",
   "execution_count": 1,
   "metadata": {},
   "outputs": [],
   "source": [
    "import pandas as pd \n",
    "import numpy as np \n",
    "from rake_nltk import Rake \n",
    "from nltk.stem import WordNetLemmatizer\n",
    "from nltk.stem.porter import PorterStemmer\n",
    "from nltk.tokenize import RegexpTokenizer\n",
    "from sklearn.feature_extraction.text import CountVectorizer, TfidfVectorizer\n",
    "from sklearn.metrics.pairwise import pairwise_distances, cosine_similarity, linear_kernel\n",
    "import gensim"
   ]
  },
  {
   "cell_type": "markdown",
   "metadata": {},
   "source": [
    "### Read in the csvs"
   ]
  },
  {
   "cell_type": "code",
   "execution_count": 2,
   "metadata": {},
   "outputs": [
    {
     "data": {
      "text/html": [
       "<div>\n",
       "<style scoped>\n",
       "    .dataframe tbody tr th:only-of-type {\n",
       "        vertical-align: middle;\n",
       "    }\n",
       "\n",
       "    .dataframe tbody tr th {\n",
       "        vertical-align: top;\n",
       "    }\n",
       "\n",
       "    .dataframe thead th {\n",
       "        text-align: right;\n",
       "    }\n",
       "</style>\n",
       "<table border=\"1\" class=\"dataframe\">\n",
       "  <thead>\n",
       "    <tr style=\"text-align: right;\">\n",
       "      <th></th>\n",
       "      <th>author</th>\n",
       "      <th>content</th>\n",
       "      <th>description</th>\n",
       "      <th>photo_url</th>\n",
       "      <th>pub_date</th>\n",
       "      <th>source</th>\n",
       "      <th>title</th>\n",
       "      <th>url</th>\n",
       "      <th>combined_text</th>\n",
       "      <th>tokens</th>\n",
       "      <th>lems</th>\n",
       "      <th>stems</th>\n",
       "      <th>keywords</th>\n",
       "    </tr>\n",
       "  </thead>\n",
       "  <tbody>\n",
       "    <tr>\n",
       "      <td>0</td>\n",
       "      <td>Lisa Rowan</td>\n",
       "      <td>Its hurricane season, and weve got a weirdo st...</td>\n",
       "      <td>It’s hurricane season, and we’ve got a weirdo ...</td>\n",
       "      <td>https://i.kinja-img.com/gawker-media/image/upl...</td>\n",
       "      <td>2019-07-10</td>\n",
       "      <td>NaN</td>\n",
       "      <td>Never Try To Drive Through a Flood</td>\n",
       "      <td>https://lifehacker.com/never-try-to-drive-thro...</td>\n",
       "      <td>Its hurricane season, and weve got a weirdo st...</td>\n",
       "      <td>['Its', 'hurricane', 'season', 'and', 'weve', ...</td>\n",
       "      <td>Its hurricane season and weve got a weirdo sto...</td>\n",
       "      <td>it hurrican season and weve got a weirdo storm...</td>\n",
       "      <td>['read', 'ever', 'following', 'demand', '…', '...</td>\n",
       "    </tr>\n",
       "    <tr>\n",
       "      <td>1</td>\n",
       "      <td>Yessenia Funes on Earther, shared by Virginia ...</td>\n",
       "      <td>Tropical Storm Barry still doesnt formally exi...</td>\n",
       "      <td>Tropical Storm Barry still doesn’t formally ex...</td>\n",
       "      <td>https://i.kinja-img.com/gawker-media/image/upl...</td>\n",
       "      <td>2019-07-11</td>\n",
       "      <td>NaN</td>\n",
       "      <td>New Orleans Faces a Major Flood Threat [Updating]</td>\n",
       "      <td>https://earther.gizmodo.com/new-orleans-faces-...</td>\n",
       "      <td>Tropical Storm Barry still doesnt formally exi...</td>\n",
       "      <td>['Tropical', 'Storm', 'Barry', 'still', 'doesn...</td>\n",
       "      <td>Tropical Storm Barry still doesnt formally exi...</td>\n",
       "      <td>tropic storm barri still doesnt formal exist b...</td>\n",
       "      <td>['tropical', 'storm', 'barry', 'still', 'doesn...</td>\n",
       "    </tr>\n",
       "  </tbody>\n",
       "</table>\n",
       "</div>"
      ],
      "text/plain": [
       "                                              author  \\\n",
       "0                                         Lisa Rowan   \n",
       "1  Yessenia Funes on Earther, shared by Virginia ...   \n",
       "\n",
       "                                             content  \\\n",
       "0  Its hurricane season, and weve got a weirdo st...   \n",
       "1  Tropical Storm Barry still doesnt formally exi...   \n",
       "\n",
       "                                         description  \\\n",
       "0  It’s hurricane season, and we’ve got a weirdo ...   \n",
       "1  Tropical Storm Barry still doesn’t formally ex...   \n",
       "\n",
       "                                           photo_url    pub_date source  \\\n",
       "0  https://i.kinja-img.com/gawker-media/image/upl...  2019-07-10    NaN   \n",
       "1  https://i.kinja-img.com/gawker-media/image/upl...  2019-07-11    NaN   \n",
       "\n",
       "                                               title  \\\n",
       "0                 Never Try To Drive Through a Flood   \n",
       "1  New Orleans Faces a Major Flood Threat [Updating]   \n",
       "\n",
       "                                                 url  \\\n",
       "0  https://lifehacker.com/never-try-to-drive-thro...   \n",
       "1  https://earther.gizmodo.com/new-orleans-faces-...   \n",
       "\n",
       "                                       combined_text  \\\n",
       "0  Its hurricane season, and weve got a weirdo st...   \n",
       "1  Tropical Storm Barry still doesnt formally exi...   \n",
       "\n",
       "                                              tokens  \\\n",
       "0  ['Its', 'hurricane', 'season', 'and', 'weve', ...   \n",
       "1  ['Tropical', 'Storm', 'Barry', 'still', 'doesn...   \n",
       "\n",
       "                                                lems  \\\n",
       "0  Its hurricane season and weve got a weirdo sto...   \n",
       "1  Tropical Storm Barry still doesnt formally exi...   \n",
       "\n",
       "                                               stems  \\\n",
       "0  it hurrican season and weve got a weirdo storm...   \n",
       "1  tropic storm barri still doesnt formal exist b...   \n",
       "\n",
       "                                            keywords  \n",
       "0  ['read', 'ever', 'following', 'demand', '…', '...  \n",
       "1  ['tropical', 'storm', 'barry', 'still', 'doesn...  "
      ]
     },
     "execution_count": 2,
     "metadata": {},
     "output_type": "execute_result"
    }
   ],
   "source": [
    "df = pd.read_csv('3.final_data/mega_data.csv')\n",
    "fire_df = pd.read_csv('3.final_data/fire_comb.csv')\n",
    "blizz_df = pd.read_csv('3.final_data/blizzard_comb.csv')\n",
    "flood_df = pd.read_csv('3.final_data/flood_comb.csv')\n",
    "hurr_df = pd.read_csv('3.final_data/hurricane_comb.csv')\n",
    "earth_df = pd.read_csv('3.final_data/earthquake_comb.csv')\n",
    "torn_df = pd.read_csv('3.final_data/tornado_comb.csv')\n",
    "\n",
    "df.head(2)"
   ]
  },
  {
   "cell_type": "markdown",
   "metadata": {},
   "source": [
    "### Recomender"
   ]
  },
  {
   "cell_type": "code",
   "execution_count": 3,
   "metadata": {},
   "outputs": [],
   "source": [
    "def recomender(df, min_sim_score, title):\n",
    "    indices_title = pd.Series(df.index, index=df[\"title\"])\n",
    "    idx = indices_title[title]\n",
    "    \n",
    "    tfidf = TfidfVectorizer(stop_words='english')\n",
    "    tfidf_matrix = tfidf.fit_transform(df[\"combined_text\"])\n",
    "    cosine_sim_matrix = linear_kernel(tfidf_matrix, tfidf_matrix)\n",
    "    \n",
    "    sim_scores = list(enumerate(cosine_sim_matrix[idx]))\n",
    "    sim_scores = sorted(sim_scores, key=lambda x: x[1], reverse=True)\n",
    "    \n",
    "    filtered_sim_scores = []\n",
    "    for sim_score in sim_scores:\n",
    "        if sim_score[1] >= min_sim_score:\n",
    "            filtered_sim_scores.append(sim_score)\n",
    "    \n",
    "    print(f'Number of found articles for {title}: {len(filtered_sim_scores)}')\n",
    "    \n",
    "    article_indices = [i[0] for i in filtered_sim_scores]\n",
    "    return df['title'].iloc[article_indices]"
   ]
  },
  {
   "cell_type": "markdown",
   "metadata": {},
   "source": [
    "### Wildfire"
   ]
  },
  {
   "cell_type": "code",
   "execution_count": 4,
   "metadata": {},
   "outputs": [
    {
     "name": "stdout",
     "output_type": "stream",
     "text": [
      "Number of found articles for California Fires Live Updates: Strong Winds May Expand Blazes: 96\n"
     ]
    }
   ],
   "source": [
    "title = fire_df.iloc[0][\"title\"]\n",
    "recom_list = list(recomender(df, 0.09, title))"
   ]
  },
  {
   "cell_type": "code",
   "execution_count": 5,
   "metadata": {},
   "outputs": [
    {
     "data": {
      "text/plain": [
       "(3, 14)"
      ]
     },
     "execution_count": 5,
     "metadata": {},
     "output_type": "execute_result"
    }
   ],
   "source": [
    "recom_list = recom_list[:3]\n",
    "temp_df = df\n",
    "temp_df[\"final_list\"] = temp_df[\"title\"].map(lambda x: 1 if x in recom_list else 0)\n",
    "temp_df = temp_df.loc[temp_df[\"final_list\"] == 1]\n",
    "temp_df.shape"
   ]
  },
  {
   "cell_type": "code",
   "execution_count": 6,
   "metadata": {},
   "outputs": [],
   "source": [
    "temp_df.to_csv(\"4.search_home/fire_home.csv\")"
   ]
  },
  {
   "cell_type": "markdown",
   "metadata": {},
   "source": [
    "### Tornado"
   ]
  },
  {
   "cell_type": "code",
   "execution_count": 7,
   "metadata": {},
   "outputs": [
    {
     "name": "stdout",
     "output_type": "stream",
     "text": [
      "Number of found articles for Second tornado confirmed from weekend Saskatchewan storms - The Weather Network: 197\n"
     ]
    }
   ],
   "source": [
    "title = torn_df.iloc[5][\"title\"]\n",
    "recom_list = list(recomender(df, 0.09, title))"
   ]
  },
  {
   "cell_type": "code",
   "execution_count": 8,
   "metadata": {},
   "outputs": [
    {
     "data": {
      "text/plain": [
       "(3, 14)"
      ]
     },
     "execution_count": 8,
     "metadata": {},
     "output_type": "execute_result"
    }
   ],
   "source": [
    "recom_list = recom_list[:3]\n",
    "temp_df = df\n",
    "temp_df[\"final_list\"] = temp_df[\"title\"].map(lambda x: 1 if x in recom_list else 0)\n",
    "temp_df = temp_df.loc[temp_df[\"final_list\"] == 1]\n",
    "temp_df.shape"
   ]
  },
  {
   "cell_type": "code",
   "execution_count": 9,
   "metadata": {},
   "outputs": [],
   "source": [
    "temp_df.to_csv(\"4.search_home/torn_home.csv\")"
   ]
  },
  {
   "cell_type": "markdown",
   "metadata": {},
   "source": [
    "### Flood"
   ]
  },
  {
   "cell_type": "code",
   "execution_count": 10,
   "metadata": {},
   "outputs": [
    {
     "name": "stdout",
     "output_type": "stream",
     "text": [
      "Number of found articles for Woman buys out shoe store to help flood victims: 41\n"
     ]
    }
   ],
   "source": [
    "title = flood_df.iloc[0][\"title\"]\n",
    "recom_list = list(recomender(df, 0.09, title))"
   ]
  },
  {
   "cell_type": "code",
   "execution_count": 11,
   "metadata": {},
   "outputs": [
    {
     "data": {
      "text/plain": [
       "(3, 14)"
      ]
     },
     "execution_count": 11,
     "metadata": {},
     "output_type": "execute_result"
    }
   ],
   "source": [
    "recom_list = recom_list[:3]\n",
    "temp_df = df\n",
    "temp_df[\"final_list\"] = temp_df[\"title\"].map(lambda x: 1 if x in recom_list else 0)\n",
    "temp_df = temp_df.loc[temp_df[\"final_list\"] == 1]\n",
    "temp_df.shape"
   ]
  },
  {
   "cell_type": "code",
   "execution_count": 12,
   "metadata": {},
   "outputs": [],
   "source": [
    "temp_df.to_csv(\"4.search_home/flood_home.csv\")"
   ]
  },
  {
   "cell_type": "markdown",
   "metadata": {},
   "source": [
    "### Earthquake"
   ]
  },
  {
   "cell_type": "code",
   "execution_count": 13,
   "metadata": {},
   "outputs": [
    {
     "name": "stdout",
     "output_type": "stream",
     "text": [
      "Number of found articles for Powerful 7.5-magnitude earthquake hits Ecuador: 491\n"
     ]
    }
   ],
   "source": [
    "title = earth_df.iloc[1][\"title\"]\n",
    "recom_list = list(recomender(df, 0.09, title))"
   ]
  },
  {
   "cell_type": "code",
   "execution_count": 14,
   "metadata": {},
   "outputs": [
    {
     "data": {
      "text/plain": [
       "(4, 14)"
      ]
     },
     "execution_count": 14,
     "metadata": {},
     "output_type": "execute_result"
    }
   ],
   "source": [
    "recom_list = recom_list[:3]\n",
    "temp_df = df\n",
    "temp_df[\"final_list\"] = temp_df[\"title\"].map(lambda x: 1 if x in recom_list else 0)\n",
    "temp_df = temp_df.loc[temp_df[\"final_list\"] == 1]\n",
    "temp_df.shape"
   ]
  },
  {
   "cell_type": "code",
   "execution_count": 15,
   "metadata": {},
   "outputs": [],
   "source": [
    "temp_df.to_csv(\"4.search_home/earth_home.csv\")"
   ]
  },
  {
   "cell_type": "markdown",
   "metadata": {},
   "source": [
    "### Blizzard"
   ]
  },
  {
   "cell_type": "markdown",
   "metadata": {},
   "source": [
    "There are no recent news for blizzard"
   ]
  },
  {
   "cell_type": "markdown",
   "metadata": {},
   "source": [
    "### Hurricane"
   ]
  },
  {
   "cell_type": "code",
   "execution_count": 16,
   "metadata": {},
   "outputs": [
    {
     "name": "stdout",
     "output_type": "stream",
     "text": [
      "Number of found articles for Typhoon, Cyclone or Hurricane? Different Names for the Same Storms: 60\n"
     ]
    }
   ],
   "source": [
    "title = hurr_df.iloc[0][\"title\"]\n",
    "recom_list = list(recomender(df, 0.09, title))"
   ]
  },
  {
   "cell_type": "code",
   "execution_count": 17,
   "metadata": {},
   "outputs": [
    {
     "data": {
      "text/plain": [
       "(3, 14)"
      ]
     },
     "execution_count": 17,
     "metadata": {},
     "output_type": "execute_result"
    }
   ],
   "source": [
    "recom_list = recom_list[:3]\n",
    "temp_df = df\n",
    "temp_df[\"final_list\"] = temp_df[\"title\"].map(lambda x: 1 if x in recom_list else 0)\n",
    "temp_df = temp_df.loc[temp_df[\"final_list\"] == 1]\n",
    "temp_df.shape"
   ]
  },
  {
   "cell_type": "code",
   "execution_count": 18,
   "metadata": {},
   "outputs": [],
   "source": [
    "temp_df.to_csv(\"4.search_home/hurr_home.csv\")"
   ]
  },
  {
   "cell_type": "code",
   "execution_count": null,
   "metadata": {},
   "outputs": [],
   "source": []
  }
 ],
 "metadata": {
  "kernelspec": {
   "display_name": "Python 3",
   "language": "python",
   "name": "python3"
  },
  "language_info": {
   "codemirror_mode": {
    "name": "ipython",
    "version": 3
   },
   "file_extension": ".py",
   "mimetype": "text/x-python",
   "name": "python",
   "nbconvert_exporter": "python",
   "pygments_lexer": "ipython3",
   "version": "3.7.4"
  }
 },
 "nbformat": 4,
 "nbformat_minor": 2
}
