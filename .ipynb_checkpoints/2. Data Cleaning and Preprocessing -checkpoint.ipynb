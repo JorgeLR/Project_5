{
 "cells": [
  {
   "cell_type": "markdown",
   "metadata": {},
   "source": [
    "### Importing Libraries"
   ]
  },
  {
   "cell_type": "code",
   "execution_count": 1,
   "metadata": {},
   "outputs": [],
   "source": [
    "import pandas as pd \n",
    "import numpy as np\n",
    "import warnings\n",
    "warnings.simplefilter(action='ignore', category=FutureWarning)\n",
    "import json \n",
    "import ast "
   ]
  },
  {
   "cell_type": "code",
   "execution_count": 2,
   "metadata": {},
   "outputs": [],
   "source": [
    "#pd.set_option('display.max_colwidth', -1)"
   ]
  },
  {
   "cell_type": "markdown",
   "metadata": {},
   "source": [
    "###  Reading Our Webscraped data "
   ]
  },
  {
   "cell_type": "code",
   "execution_count": 3,
   "metadata": {},
   "outputs": [],
   "source": [
    "wildfire_df = pd.read_csv('1.raw_data/teamNJV_wildfire_df.csv')\n",
    "flood_df = pd.read_csv(\"1.raw_data/teamNJV_flood.csv\")\n",
    "earthquake_df = pd.read_csv(\"1.raw_data/teamNJV_earthquake.csv\")\n",
    "hurricane_df = pd.read_csv(\"1.raw_data/teamNJV_hurricane.csv\")\n",
    "tornado_df = pd.read_csv(\"1.raw_data/teamNJV_tornado.csv\")\n",
    "blizzard_df = pd.read_csv('1.raw_data/teamNJV_blizzard.csv')"
   ]
  },
  {
   "cell_type": "code",
   "execution_count": 4,
   "metadata": {},
   "outputs": [
    {
     "data": {
      "text/html": [
       "<div>\n",
       "<style scoped>\n",
       "    .dataframe tbody tr th:only-of-type {\n",
       "        vertical-align: middle;\n",
       "    }\n",
       "\n",
       "    .dataframe tbody tr th {\n",
       "        vertical-align: top;\n",
       "    }\n",
       "\n",
       "    .dataframe thead th {\n",
       "        text-align: right;\n",
       "    }\n",
       "</style>\n",
       "<table border=\"1\" class=\"dataframe\">\n",
       "  <thead>\n",
       "    <tr style=\"text-align: right;\">\n",
       "      <th></th>\n",
       "      <th>source</th>\n",
       "      <th>author</th>\n",
       "      <th>title</th>\n",
       "      <th>description</th>\n",
       "      <th>url</th>\n",
       "      <th>photo_url</th>\n",
       "      <th>pub_date</th>\n",
       "      <th>content</th>\n",
       "    </tr>\n",
       "  </thead>\n",
       "  <tbody>\n",
       "    <tr>\n",
       "      <td>0</td>\n",
       "      <td>Reuters</td>\n",
       "      <td>Reuters Editorial</td>\n",
       "      <td>Dallas orders curfew after tornado shreds home...</td>\n",
       "      <td>Police declared a curfew on Monday in parts of...</td>\n",
       "      <td>https://uk.reuters.com/article/us-usa-weather-...</td>\n",
       "      <td>https://s3.reutersmedia.net/resources/r/?m=02&amp;...</td>\n",
       "      <td>2019-10-22</td>\n",
       "      <td>(Reuters) - Police declared a curfew on Monday...</td>\n",
       "    </tr>\n",
       "    <tr>\n",
       "      <td>1</td>\n",
       "      <td>Wfaa.com</td>\n",
       "      <td>NaN</td>\n",
       "      <td>Two Dallas schools likely completely destroyed...</td>\n",
       "      <td>Two Dallas schools likely completely destroyed...</td>\n",
       "      <td>https://www.wfaa.com/article/weather/two-disd-...</td>\n",
       "      <td>https://media.wfaa.com/assets/WFAA/images/d9c7...</td>\n",
       "      <td>2019-10-22</td>\n",
       "      <td>DALLAS Several Dallas schools will be closed u...</td>\n",
       "    </tr>\n",
       "    <tr>\n",
       "      <td>2</td>\n",
       "      <td>Dailymail.co.uk</td>\n",
       "      <td>By Jeff Powell for the Daily Mail</td>\n",
       "      <td>Undefeated Josh Taylor and Regis Prograis set ...</td>\n",
       "      <td>For the first time in the history of professio...</td>\n",
       "      <td>https://www.dailymail.co.uk/sport/boxing/artic...</td>\n",
       "      <td>https://i.dailymail.co.uk/1s/2019/10/22/01/200...</td>\n",
       "      <td>2019-10-22</td>\n",
       "      <td>For the first time in the history of professio...</td>\n",
       "    </tr>\n",
       "  </tbody>\n",
       "</table>\n",
       "</div>"
      ],
      "text/plain": [
       "            source                             author  \\\n",
       "0          Reuters                  Reuters Editorial   \n",
       "1         Wfaa.com                                NaN   \n",
       "2  Dailymail.co.uk  By Jeff Powell for the Daily Mail   \n",
       "\n",
       "                                               title  \\\n",
       "0  Dallas orders curfew after tornado shreds home...   \n",
       "1  Two Dallas schools likely completely destroyed...   \n",
       "2  Undefeated Josh Taylor and Regis Prograis set ...   \n",
       "\n",
       "                                         description  \\\n",
       "0  Police declared a curfew on Monday in parts of...   \n",
       "1  Two Dallas schools likely completely destroyed...   \n",
       "2  For the first time in the history of professio...   \n",
       "\n",
       "                                                 url  \\\n",
       "0  https://uk.reuters.com/article/us-usa-weather-...   \n",
       "1  https://www.wfaa.com/article/weather/two-disd-...   \n",
       "2  https://www.dailymail.co.uk/sport/boxing/artic...   \n",
       "\n",
       "                                           photo_url    pub_date  \\\n",
       "0  https://s3.reutersmedia.net/resources/r/?m=02&...  2019-10-22   \n",
       "1  https://media.wfaa.com/assets/WFAA/images/d9c7...  2019-10-22   \n",
       "2  https://i.dailymail.co.uk/1s/2019/10/22/01/200...  2019-10-22   \n",
       "\n",
       "                                             content  \n",
       "0  (Reuters) - Police declared a curfew on Monday...  \n",
       "1  DALLAS Several Dallas schools will be closed u...  \n",
       "2  For the first time in the history of professio...  "
      ]
     },
     "execution_count": 4,
     "metadata": {},
     "output_type": "execute_result"
    }
   ],
   "source": [
    "tornado_df.head(3)"
   ]
  },
  {
   "cell_type": "code",
   "execution_count": 5,
   "metadata": {},
   "outputs": [
    {
     "data": {
      "text/html": [
       "<div>\n",
       "<style scoped>\n",
       "    .dataframe tbody tr th:only-of-type {\n",
       "        vertical-align: middle;\n",
       "    }\n",
       "\n",
       "    .dataframe tbody tr th {\n",
       "        vertical-align: top;\n",
       "    }\n",
       "\n",
       "    .dataframe thead th {\n",
       "        text-align: right;\n",
       "    }\n",
       "</style>\n",
       "<table border=\"1\" class=\"dataframe\">\n",
       "  <thead>\n",
       "    <tr style=\"text-align: right;\">\n",
       "      <th></th>\n",
       "      <th>title</th>\n",
       "      <th>author</th>\n",
       "      <th>source</th>\n",
       "      <th>description</th>\n",
       "      <th>content</th>\n",
       "      <th>pub_date</th>\n",
       "      <th>url</th>\n",
       "      <th>photo_url</th>\n",
       "    </tr>\n",
       "  </thead>\n",
       "  <tbody>\n",
       "    <tr>\n",
       "      <td>0</td>\n",
       "      <td>California Fires Live Updates: Strong Winds Ma...</td>\n",
       "      <td>The New York Times</td>\n",
       "      <td>The New York Times</td>\n",
       "      <td>The Kincade and Getty fires are part of a vici...</td>\n",
       "      <td>Fighting fires including immense untamed wildf...</td>\n",
       "      <td>2019-10-29</td>\n",
       "      <td>https://www.nytimes.com/2019/10/29/us/californ...</td>\n",
       "      <td>https://static01.nyt.com/images/2019/10/29/us/...</td>\n",
       "    </tr>\n",
       "    <tr>\n",
       "      <td>1</td>\n",
       "      <td>Airbnb hosts are offering free housing to thou...</td>\n",
       "      <td>Elizabeth Wolfe and Saeed Ahmed, CNN</td>\n",
       "      <td>CNN</td>\n",
       "      <td>California is in a state of emergency as wildf...</td>\n",
       "      <td>NaN</td>\n",
       "      <td>2019-10-29</td>\n",
       "      <td>https://www.cnn.com/2019/10/29/us/california-w...</td>\n",
       "      <td>https://cdn.cnn.com/cnnnext/dam/assets/1910271...</td>\n",
       "    </tr>\n",
       "    <tr>\n",
       "      <td>2</td>\n",
       "      <td>Getty fire in LA likely caused by tree branch ...</td>\n",
       "      <td>Reuters Editorial</td>\n",
       "      <td>Reuters</td>\n",
       "      <td>A major wildfire burning in Los Angeles near t...</td>\n",
       "      <td>(Reuters) - A major wildfire burning in Los An...</td>\n",
       "      <td>2019-10-29</td>\n",
       "      <td>https://www.reuters.com/article/us-california-...</td>\n",
       "      <td>https://s3.reutersmedia.net/resources/r/?m=02&amp;...</td>\n",
       "    </tr>\n",
       "    <tr>\n",
       "      <td>3</td>\n",
       "      <td>Wildfires and blackouts in California: The sit...</td>\n",
       "      <td>NaN</td>\n",
       "      <td>The Globe And Mail</td>\n",
       "      <td>Wildfires and blackouts in California: The sit...</td>\n",
       "      <td>Windsor, Calif., Oct. 27: Firefighters battle ...</td>\n",
       "      <td>2019-10-29</td>\n",
       "      <td>https://www.theglobeandmail.com/world/article-...</td>\n",
       "      <td>https://www.theglobeandmail.com/resizer/t_z1FI...</td>\n",
       "    </tr>\n",
       "    <tr>\n",
       "      <td>4</td>\n",
       "      <td>How to Help Evacuees of the Kinkade Fire</td>\n",
       "      <td>Josh Ocampo</td>\n",
       "      <td>Lifehacker.com</td>\n",
       "      <td>As of Tuesday morning, the Kinkade fire in Son...</td>\n",
       "      <td>As of Tuesday morning, the Kinkade fire in Son...</td>\n",
       "      <td>2019-10-29</td>\n",
       "      <td>https://lifehacker.com/how-to-help-evacuees-of...</td>\n",
       "      <td>https://i.kinja-img.com/gawker-media/image/upl...</td>\n",
       "    </tr>\n",
       "  </tbody>\n",
       "</table>\n",
       "</div>"
      ],
      "text/plain": [
       "                                               title  \\\n",
       "0  California Fires Live Updates: Strong Winds Ma...   \n",
       "1  Airbnb hosts are offering free housing to thou...   \n",
       "2  Getty fire in LA likely caused by tree branch ...   \n",
       "3  Wildfires and blackouts in California: The sit...   \n",
       "4           How to Help Evacuees of the Kinkade Fire   \n",
       "\n",
       "                                 author              source  \\\n",
       "0                    The New York Times  The New York Times   \n",
       "1  Elizabeth Wolfe and Saeed Ahmed, CNN                 CNN   \n",
       "2                     Reuters Editorial             Reuters   \n",
       "3                                   NaN  The Globe And Mail   \n",
       "4                           Josh Ocampo      Lifehacker.com   \n",
       "\n",
       "                                         description  \\\n",
       "0  The Kincade and Getty fires are part of a vici...   \n",
       "1  California is in a state of emergency as wildf...   \n",
       "2  A major wildfire burning in Los Angeles near t...   \n",
       "3  Wildfires and blackouts in California: The sit...   \n",
       "4  As of Tuesday morning, the Kinkade fire in Son...   \n",
       "\n",
       "                                             content    pub_date  \\\n",
       "0  Fighting fires including immense untamed wildf...  2019-10-29   \n",
       "1                                                NaN  2019-10-29   \n",
       "2  (Reuters) - A major wildfire burning in Los An...  2019-10-29   \n",
       "3  Windsor, Calif., Oct. 27: Firefighters battle ...  2019-10-29   \n",
       "4  As of Tuesday morning, the Kinkade fire in Son...  2019-10-29   \n",
       "\n",
       "                                                 url  \\\n",
       "0  https://www.nytimes.com/2019/10/29/us/californ...   \n",
       "1  https://www.cnn.com/2019/10/29/us/california-w...   \n",
       "2  https://www.reuters.com/article/us-california-...   \n",
       "3  https://www.theglobeandmail.com/world/article-...   \n",
       "4  https://lifehacker.com/how-to-help-evacuees-of...   \n",
       "\n",
       "                                           photo_url  \n",
       "0  https://static01.nyt.com/images/2019/10/29/us/...  \n",
       "1  https://cdn.cnn.com/cnnnext/dam/assets/1910271...  \n",
       "2  https://s3.reutersmedia.net/resources/r/?m=02&...  \n",
       "3  https://www.theglobeandmail.com/resizer/t_z1FI...  \n",
       "4  https://i.kinja-img.com/gawker-media/image/upl...  "
      ]
     },
     "execution_count": 5,
     "metadata": {},
     "output_type": "execute_result"
    }
   ],
   "source": [
    "wildfire_df.head()"
   ]
  },
  {
   "cell_type": "markdown",
   "metadata": {},
   "source": [
    "### Other Team's Data\n",
    "#### We used data from other groups in order to better train our model"
   ]
  },
  {
   "cell_type": "code",
   "execution_count": 6,
   "metadata": {},
   "outputs": [],
   "source": [
    "#first team's data\n",
    "fire_1_df = pd.read_csv('1.raw_data/ex_pro_1_fire.csv')\n",
    "blizzard_1_df = pd.read_csv('1.raw_data/ex_pro_1_blizzard.csv', index_col = \"Unnamed: 1\" )\n",
    "earthquake_1_df = pd.read_csv('1.raw_data/ex_pro_1_earthquake.csv', index_col = 'Unnamed: 1')\n",
    "flood_1_df = pd.read_csv('1.raw_data/ex_pro_1_flood.csv', index_col = 'Unnamed: 1')\n",
    "hurricane_1_df = pd.read_csv('1.raw_data/ex_pro_1_hurricane.csv', )\n",
    "tornado_1_df = pd.read_csv('1.raw_data/ex_pro_1_tornado.csv', index_col = 'Unnamed: 1')\n",
    "\n",
    "#second team's data\n",
    "group_2_comp_df = pd.read_csv('1.raw_data/ex_pro_2_all_articles_final.csv')\n",
    "\n",
    "#third teams's data \n",
    "flood_3_df = pd.read_csv('1.raw_data/ex_pro_3_floods.csv')\n",
    "earthquake_3_df = pd.read_csv('1.raw_data/ex_pro_3 earthquake.csv', index_col = \"Unnamed: 0\")"
   ]
  },
  {
   "cell_type": "code",
   "execution_count": 7,
   "metadata": {},
   "outputs": [
    {
     "data": {
      "text/html": [
       "<div>\n",
       "<style scoped>\n",
       "    .dataframe tbody tr th:only-of-type {\n",
       "        vertical-align: middle;\n",
       "    }\n",
       "\n",
       "    .dataframe tbody tr th {\n",
       "        vertical-align: top;\n",
       "    }\n",
       "\n",
       "    .dataframe thead th {\n",
       "        text-align: right;\n",
       "    }\n",
       "</style>\n",
       "<table border=\"1\" class=\"dataframe\">\n",
       "  <thead>\n",
       "    <tr style=\"text-align: right;\">\n",
       "      <th></th>\n",
       "      <th>y_label</th>\n",
       "      <th>headline</th>\n",
       "      <th>pub_date</th>\n",
       "      <th>snippet</th>\n",
       "      <th>web_url</th>\n",
       "    </tr>\n",
       "  </thead>\n",
       "  <tbody>\n",
       "    <tr>\n",
       "      <td>0</td>\n",
       "      <td>0</td>\n",
       "      <td>How Nancy Fire, Interior Designer, Spends Her ...</td>\n",
       "      <td>2019-02-01T10:00:12+0000</td>\n",
       "      <td>A lot of tea is involved. There is a walk in t...</td>\n",
       "      <td>https://www.nytimes.com/2019/02/01/nyregion/ho...</td>\n",
       "    </tr>\n",
       "    <tr>\n",
       "      <td>1</td>\n",
       "      <td>0</td>\n",
       "      <td>Review: With Protest and Fire, an Oratorio Mou...</td>\n",
       "      <td>2019-01-25T18:50:32+0000</td>\n",
       "      <td>Tautly structured, Julia Wolfe’s “Fire in my m...</td>\n",
       "      <td>https://www.nytimes.com/2019/01/25/arts/music/...</td>\n",
       "    </tr>\n",
       "    <tr>\n",
       "      <td>2</td>\n",
       "      <td>0</td>\n",
       "      <td>Will a New Play Restart a Fire?</td>\n",
       "      <td>2019-01-23T15:00:04+0000</td>\n",
       "      <td>Years after the Supreme Court ruled that New H...</td>\n",
       "      <td>https://www.nytimes.com/2019/01/23/theater/goo...</td>\n",
       "    </tr>\n",
       "    <tr>\n",
       "      <td>3</td>\n",
       "      <td>0</td>\n",
       "      <td>Teenagers Charged With Setting Fire to Shakesp...</td>\n",
       "      <td>2019-04-09T02:17:41+0000</td>\n",
       "      <td>The fire in January reduced the historic build...</td>\n",
       "      <td>https://www.nytimes.com/2019/04/08/arts/shakes...</td>\n",
       "    </tr>\n",
       "    <tr>\n",
       "      <td>4</td>\n",
       "      <td>0</td>\n",
       "      <td>Grenfell Tower Study Finds Many Toxic Chemical...</td>\n",
       "      <td>2019-03-28T16:08:06+0000</td>\n",
       "      <td>Almost a year and a half after the fire that k...</td>\n",
       "      <td>https://www.nytimes.com/2019/03/28/world/europ...</td>\n",
       "    </tr>\n",
       "  </tbody>\n",
       "</table>\n",
       "</div>"
      ],
      "text/plain": [
       "   y_label                                           headline  \\\n",
       "0        0  How Nancy Fire, Interior Designer, Spends Her ...   \n",
       "1        0  Review: With Protest and Fire, an Oratorio Mou...   \n",
       "2        0                    Will a New Play Restart a Fire?   \n",
       "3        0  Teenagers Charged With Setting Fire to Shakesp...   \n",
       "4        0  Grenfell Tower Study Finds Many Toxic Chemical...   \n",
       "\n",
       "                   pub_date  \\\n",
       "0  2019-02-01T10:00:12+0000   \n",
       "1  2019-01-25T18:50:32+0000   \n",
       "2  2019-01-23T15:00:04+0000   \n",
       "3  2019-04-09T02:17:41+0000   \n",
       "4  2019-03-28T16:08:06+0000   \n",
       "\n",
       "                                             snippet  \\\n",
       "0  A lot of tea is involved. There is a walk in t...   \n",
       "1  Tautly structured, Julia Wolfe’s “Fire in my m...   \n",
       "2  Years after the Supreme Court ruled that New H...   \n",
       "3  The fire in January reduced the historic build...   \n",
       "4  Almost a year and a half after the fire that k...   \n",
       "\n",
       "                                             web_url  \n",
       "0  https://www.nytimes.com/2019/02/01/nyregion/ho...  \n",
       "1  https://www.nytimes.com/2019/01/25/arts/music/...  \n",
       "2  https://www.nytimes.com/2019/01/23/theater/goo...  \n",
       "3  https://www.nytimes.com/2019/04/08/arts/shakes...  \n",
       "4  https://www.nytimes.com/2019/03/28/world/europ...  "
      ]
     },
     "execution_count": 7,
     "metadata": {},
     "output_type": "execute_result"
    }
   ],
   "source": [
    "fire_1_df.head()"
   ]
  },
  {
   "cell_type": "markdown",
   "metadata": {},
   "source": [
    "### Source Getter\n",
    "##### A function from our last notebook "
   ]
  },
  {
   "cell_type": "code",
   "execution_count": 8,
   "metadata": {},
   "outputs": [],
   "source": [
    "def dictionary_conversion(df):\n",
    "    x_sources = []\n",
    "    source_dict = {}\n",
    "    for x in df['source']:\n",
    "        x_sources.append(x)\n",
    "    for y in x_sources: \n",
    "        source_dict =(ast.literal_eval(y))\n",
    "        print(source_dict)\n",
    "        \n",
    "        return source_dict\n",
    "\n"
   ]
  },
  {
   "cell_type": "markdown",
   "metadata": {},
   "source": [
    "This small but might function converts dictionaried strings back into dictionaries, and extracts the name from the dictionary"
   ]
  },
  {
   "cell_type": "code",
   "execution_count": 9,
   "metadata": {},
   "outputs": [],
   "source": [
    "# tornado_df['source'] = tornado_df['source'].map(lambda x: ast.literal_eval(x)['name'])"
   ]
  },
  {
   "cell_type": "markdown",
   "metadata": {},
   "source": [
    "### Snippet Renamer\n",
    "#### The data source was collected from a different api. The plan is to then merge the same disasters. In order to do that the column names need to be the same. "
   ]
  },
  {
   "cell_type": "code",
   "execution_count": 10,
   "metadata": {},
   "outputs": [],
   "source": [
    "fire_1_df.rename(columns = {\"snippet\": \"description\", 'headline' : 'title'}, inplace = True )\n",
    "blizzard_1_df.rename(columns = {\"snippet\": \"description\", 'headline' : 'title'}, inplace = True)\n",
    "earthquake_1_df.rename(columns = {\"snippet\": \"description\", 'headline' : 'title'}, inplace = True)\n",
    "flood_1_df.rename(columns = {\"snippet\": \"description\", 'headline' : 'title'}, inplace = True)\n",
    "hurricane_1_df.rename(columns = {\"snippet\": \"description\", 'headline' : 'title'}, inplace = True)\n",
    "tornado_1_df.rename(columns = {\"snippet\": \"description\", \"Unnamed: 0\":'y_label', 'headline' : 'title' }, inplace = True)\n"
   ]
  },
  {
   "cell_type": "markdown",
   "metadata": {},
   "source": [
    "### Cleaning up PublishedAt"
   ]
  },
  {
   "cell_type": "code",
   "execution_count": 11,
   "metadata": {},
   "outputs": [],
   "source": [
    "flood_3_df.rename(columns = {\"publishedAt\": \"pub_date\"}, inplace = True )\n",
    "earthquake_3_df.rename(columns = {\"publishedAt\": \"pub_date\"}, inplace = True )\n",
    "group_2_comp_df.rename(columns = {\"publishedAt\": \"pub_date\"}, inplace = True )\n",
    "tornado_df.rename(columns = {\"publishedAt\": \"pub_date\"}, inplace = True )"
   ]
  },
  {
   "cell_type": "markdown",
   "metadata": {},
   "source": [
    "### Matching the Style of the Datetime format"
   ]
  },
  {
   "cell_type": "code",
   "execution_count": 12,
   "metadata": {},
   "outputs": [],
   "source": [
    "fire_1_df['pub_date'] = pd.to_datetime(fire_1_df['pub_date']).apply(lambda x: x.date())\n",
    "blizzard_1_df['pub_date'] = pd.to_datetime(blizzard_1_df['pub_date']).apply(lambda x: x.date())\n",
    "earthquake_1_df['pub_date'] = pd.to_datetime(earthquake_1_df['pub_date']).apply(lambda x: x.date())\n",
    "flood_1_df['pub_date'] = pd.to_datetime(flood_1_df['pub_date']).apply(lambda x: x.date())\n",
    "hurricane_1_df['pub_date'] = pd.to_datetime(hurricane_1_df['pub_date']).apply(lambda x: x.date())\n",
    "tornado_1_df['pub_date'] = pd.to_datetime(tornado_1_df['pub_date']).apply(lambda x: x.date())\n",
    "group_2_comp_df['pub_date'] = pd.to_datetime(group_2_comp_df['pub_date']).apply(lambda x: x.date())\n",
    "flood_3_df['pub_date'] = pd.to_datetime(flood_3_df['pub_date']).apply(lambda x: x.date())\n",
    "earthquake_3_df['pub_date'] = pd.to_datetime(earthquake_3_df['pub_date']).apply(lambda x: x.date())"
   ]
  },
  {
   "cell_type": "markdown",
   "metadata": {},
   "source": [
    "#### We scraped our data separatley, therefore there were some formatting discrepancies. The code below fixes that "
   ]
  },
  {
   "cell_type": "code",
   "execution_count": 13,
   "metadata": {},
   "outputs": [],
   "source": [
    "flood_df.rename(columns = {\"urlToImage\": \"photo_url\"}, inplace = True)\n",
    "earthquake_df.rename(columns = {\"urlToImage\": \"photo_url\"} , inplace = True)\n",
    "hurricane_df.rename(columns = {\"urlToImage\": \"photo_url\"}, inplace = True)\n",
    "tornado_df.rename(columns = {\"urlToImage\": \"photo_url\"}, inplace = True)\n",
    "blizzard_df.rename(columns = {\"urlToImage\": \"photo_url\"}, inplace = True)\n",
    "group_2_comp_df.rename(columns = {\"urlToImage\": \"photo_url\"}, inplace = True)\n",
    "tornado_df.rename(columns = {\"urlToImage\": \"photo_url\"}, inplace = True)"
   ]
  },
  {
   "cell_type": "markdown",
   "metadata": {},
   "source": [
    "### Matching the URL for Group 1"
   ]
  },
  {
   "cell_type": "code",
   "execution_count": 14,
   "metadata": {},
   "outputs": [],
   "source": [
    "fire_1_df.rename(columns = {\"web_url\": \"url\"}, inplace = True)\n",
    "blizzard_1_df.rename(columns = {\"web_url\": \"url\"}, inplace = True)\n",
    "earthquake_1_df.rename(columns = {\"web_url\": \"url\"}, inplace = True)\n",
    "flood_1_df.rename(columns = {\"web_url\": \"url\"}, inplace = True)\n",
    "hurricane_1_df.rename(columns = {\"web_url\": \"url\"}, inplace = True)\n",
    "tornado_1_df.rename(columns = {\"web_url\": \"url\"}, inplace = True)"
   ]
  },
  {
   "cell_type": "markdown",
   "metadata": {},
   "source": [
    "### Matching Source Name for Group 3 "
   ]
  },
  {
   "cell_type": "code",
   "execution_count": 15,
   "metadata": {},
   "outputs": [],
   "source": [
    "flood_3_df.rename(columns = {\"source_name\": \"source\"}, inplace = True)\n",
    "earthquake_3_df.rename(columns = {\"source_name\": \"source\"}, inplace = True)"
   ]
  },
  {
   "cell_type": "markdown",
   "metadata": {},
   "source": [
    "### Identifying Duplicated Values"
   ]
  },
  {
   "cell_type": "code",
   "execution_count": 16,
   "metadata": {},
   "outputs": [
    {
     "name": "stdout",
     "output_type": "stream",
     "text": [
      "Tornado Duplicates:\n",
      "2\n",
      "Wildfire Duplicates:\n",
      "279\n",
      "Blizzard Duplicates\n",
      "0\n",
      "Hurricane Duplicates:\n",
      "0\n",
      "Earthquake Duplicates:\n",
      "0\n",
      "Group 1 Fire Duplicates:\n",
      "2\n",
      "Group 1 Blizzard Duplicates:\n",
      "5\n",
      "Group 1 Earthquake Duplicates:\n",
      "1\n",
      "Group 1 Flood Duplicates:\n",
      "0\n",
      "Group 1 Hurricane Duplicates:\n",
      "4\n",
      "Group 1 Tornado Duplicates:\n",
      "4\n",
      "Group 2 Duplicates:\n",
      "0\n",
      "Group 3 Flood Duplicates\n",
      "0\n",
      "Group 3 Earthquakes\n",
      "24\n"
     ]
    }
   ],
   "source": [
    "print(\"Tornado Duplicates:\")\n",
    "print(tornado_df.duplicated().sum())\n",
    "print(\"Wildfire Duplicates:\")\n",
    "print(wildfire_df.duplicated().sum())\n",
    "print(\"Blizzard Duplicates\")\n",
    "print(blizzard_df.duplicated().sum())\n",
    "print(\"Hurricane Duplicates:\")\n",
    "print(hurricane_df.duplicated().sum())\n",
    "print(\"Earthquake Duplicates:\")\n",
    "print(earthquake_df.duplicated().sum())\n",
    "print(\"Group 1 Fire Duplicates:\")\n",
    "print(fire_1_df.duplicated().sum())\n",
    "print(\"Group 1 Blizzard Duplicates:\")\n",
    "print(blizzard_1_df.duplicated().sum())\n",
    "print(\"Group 1 Earthquake Duplicates:\")\n",
    "print(earthquake_1_df.duplicated().sum())\n",
    "print(\"Group 1 Flood Duplicates:\")\n",
    "print(flood_1_df.duplicated().sum())\n",
    "print(\"Group 1 Hurricane Duplicates:\")\n",
    "print(hurricane_1_df.duplicated().sum())\n",
    "print(\"Group 1 Tornado Duplicates:\")\n",
    "print(tornado_1_df.duplicated().sum())\n",
    "print(\"Group 2 Duplicates:\")\n",
    "print(group_2_comp_df.duplicated().sum())\n",
    "print(\"Group 3 Flood Duplicates\")\n",
    "print(flood_3_df.duplicated().sum())\n",
    "print(\"Group 3 Earthquakes\")\n",
    "print(earthquake_3_df.duplicated().sum())\n"
   ]
  },
  {
   "cell_type": "markdown",
   "metadata": {},
   "source": [
    "### Dropping Duplicate Values\n",
    "#### News API only allows one to webscrape for the past 30 days. Furthermore, some website repost articles from other news sources. Therefore we needed to remove the articles with identical titles"
   ]
  },
  {
   "cell_type": "code",
   "execution_count": 17,
   "metadata": {},
   "outputs": [],
   "source": [
    "\n",
    "wildfire_df.drop_duplicates(keep = \"first\", inplace = True)\n",
    "fire_1_df.drop_duplicates(keep = \"first\", inplace = True)\n",
    "blizzard_1_df.drop_duplicates(keep = \"first\", inplace = True)\n",
    "earthquake_1_df.drop_duplicates(keep = \"first\", inplace = True)\n",
    "hurricane_1_df.drop_duplicates(keep = \"first\", inplace = True)\n",
    "tornado_1_df.drop_duplicates(keep = \"first\", inplace = True)\n",
    "earthquake_3_df.drop_duplicates(keep = \"first\", inplace = True)"
   ]
  },
  {
   "cell_type": "markdown",
   "metadata": {},
   "source": [
    "### Separating Group 2"
   ]
  },
  {
   "cell_type": "code",
   "execution_count": 18,
   "metadata": {},
   "outputs": [],
   "source": [
    "fire_2_df = group_2_comp_df.loc[group_2_comp_df['keyword'] == 'fires']\n",
    "earthquake_2_df = group_2_comp_df.loc[group_2_comp_df['keyword'] == 'earthquake']\n",
    "storm_2_df = group_2_comp_df.loc[group_2_comp_df['keyword'] == 'tropical storm']\n",
    "blizzard_2_df = group_2_comp_df.loc[group_2_comp_df['keyword'] == 'blizzard']\n",
    "flood_2_df = group_2_comp_df.loc[group_2_comp_df['keyword'] == 'flood']\n",
    "tornado_2_df = group_2_comp_df.loc[group_2_comp_df['keyword'] == 'tornado']\n",
    "hurricane_2_df = group_2_comp_df.loc[group_2_comp_df['keyword'] == 'hurricane']"
   ]
  },
  {
   "cell_type": "markdown",
   "metadata": {},
   "source": [
    "### Format Matching and Column Adding Option 1: Separate Dataframes "
   ]
  },
  {
   "cell_type": "code",
   "execution_count": 19,
   "metadata": {},
   "outputs": [],
   "source": [
    "fire_1_df.drop(columns= ['y_label'], inplace = True)\n",
    "blizzard_1_df.drop(columns= ['y_label'], inplace = True)\n",
    "earthquake_1_df.drop(columns= ['y_label'], inplace = True)\n",
    "flood_1_df.drop(columns= ['y_label'], inplace = True)\n",
    "hurricane_1_df.drop(columns= ['y_label'], inplace = True)\n",
    "tornado_1_df.drop(columns= ['y_label'], inplace = True)\n",
    "flood_3_df.drop(columns = ['flood_disaster_relevance'], inplace = True)\n",
    "earthquake_3_df.drop(columns = ['earthquake_relevance'], inplace = True)"
   ]
  },
  {
   "cell_type": "code",
   "execution_count": 20,
   "metadata": {},
   "outputs": [
    {
     "name": "stderr",
     "output_type": "stream",
     "text": [
      "/Users/jorgeramos/opt/anaconda3/lib/python3.7/site-packages/pandas/core/frame.py:4102: SettingWithCopyWarning: \n",
      "A value is trying to be set on a copy of a slice from a DataFrame\n",
      "\n",
      "See the caveats in the documentation: http://pandas.pydata.org/pandas-docs/stable/user_guide/indexing.html#returning-a-view-versus-a-copy\n",
      "  errors=errors,\n"
     ]
    }
   ],
   "source": [
    "fire_2_df.drop(columns = [\"keyword\"], inplace = True)\n",
    "earthquake_2_df.drop(columns = [\"keyword\"], inplace = True)\n",
    "storm_2_df.drop(columns = [\"keyword\"], inplace = True)\n",
    "blizzard_2_df.drop(columns = [\"keyword\"], inplace = True)\n",
    "flood_2_df.drop(columns = [\"keyword\"], inplace = True)\n",
    "tornado_2_df.drop(columns = [\"keyword\"], inplace = True)\n",
    "hurricane_2_df.drop(columns = [\"keyword\"], inplace = True)\n",
    "\n",
    "#dropping the unnamed column from dataframe\n",
    "# tornado_df.drop(columns = \"Unnamed: 0\", inplace = True)"
   ]
  },
  {
   "cell_type": "code",
   "execution_count": 21,
   "metadata": {},
   "outputs": [],
   "source": [
    "#Inputting nulls for the photo url\n",
    "fire_1_df['photo_url'] = np.NaN\n",
    "blizzard_1_df['photo_url'] = np.NaN\n",
    "earthquake_1_df['photo_url'] = np.NaN\n",
    "flood_1_df['photo_url'] = np.NaN\n",
    "hurricane_1_df['photo_url'] = np.NaN\n",
    "tornado_1_df['photo_url'] = np.NaN\n",
    "flood_3_df['photo_url'] = np.NaN\n",
    "earthquake_3_df['photo_url'] = np.NaN\n",
    "#Inputting nulls for the url column\n",
    "flood_3_df['url'] = np.NaN\n",
    "earthquake_3_df['url'] = np.NaN"
   ]
  },
  {
   "cell_type": "code",
   "execution_count": 22,
   "metadata": {},
   "outputs": [],
   "source": [
    "#inputting null values for authors \n",
    "fire_1_df['author'] = np.NaN\n",
    "blizzard_1_df['author'] = np.NaN\n",
    "earthquake_1_df['author'] = np.NaN\n",
    "flood_1_df['author'] = np.NaN\n",
    "hurricane_1_df['author'] = np.NaN\n",
    "tornado_1_df['author'] = np.NaN\n",
    "flood_3_df['author'] = np.NaN\n",
    "earthquake_3_df['author'] = np.NaN"
   ]
  },
  {
   "cell_type": "code",
   "execution_count": 23,
   "metadata": {},
   "outputs": [],
   "source": [
    "#inputting null values for content \n",
    "fire_1_df['content'] = np.NaN\n",
    "blizzard_1_df['content'] = np.NaN\n",
    "earthquake_1_df['content'] = np.NaN\n",
    "flood_1_df['content'] = np.NaN\n",
    "hurricane_1_df['content'] = np.NaN\n",
    "tornado_1_df['content'] = np.NaN"
   ]
  },
  {
   "cell_type": "markdown",
   "metadata": {},
   "source": [
    "### Combined Notebook "
   ]
  },
  {
   "cell_type": "markdown",
   "metadata": {},
   "source": [
    "We are trying to decide whether to separate the disasters into seperate dataframes or combine them into one. This is the appropriate notebook to do it in and it gives us options in the future. "
   ]
  },
  {
   "cell_type": "markdown",
   "metadata": {},
   "source": [
    "### Combining Similar Disaster DataFrames "
   ]
  },
  {
   "cell_type": "code",
   "execution_count": 24,
   "metadata": {},
   "outputs": [],
   "source": [
    "fire_comb = pd.concat([wildfire_df, fire_1_df, fire_2_df])\n",
    "blizzard_comb = pd.concat([blizzard_df, blizzard_1_df, blizzard_2_df])\n",
    "earthquake_comb = pd.concat([earthquake_df, earthquake_1_df, earthquake_2_df, earthquake_3_df])\n",
    "flood_comb = pd.concat([flood_df, flood_1_df, flood_2_df, flood_3_df])\n",
    "hurricane_comb = pd.concat([hurricane_df, hurricane_1_df, hurricane_2_df])\n",
    "tornado_comb = pd.concat([tornado_df, tornado_1_df, tornado_2_df])"
   ]
  },
  {
   "cell_type": "markdown",
   "metadata": {},
   "source": [
    "### Making the Mega Dataset "
   ]
  },
  {
   "cell_type": "code",
   "execution_count": 25,
   "metadata": {},
   "outputs": [],
   "source": [
    "comp_df_2 = group_2_comp_df.drop(columns = \"keyword\")"
   ]
  },
  {
   "cell_type": "code",
   "execution_count": 26,
   "metadata": {},
   "outputs": [],
   "source": [
    "mega_data = pd.concat([comp_df_2, fire_comb, blizzard_comb, earthquake_comb,\n",
    "                       flood_comb, hurricane_comb, tornado_comb])"
   ]
  },
  {
   "cell_type": "code",
   "execution_count": 27,
   "metadata": {},
   "outputs": [
    {
     "data": {
      "text/html": [
       "<div>\n",
       "<style scoped>\n",
       "    .dataframe tbody tr th:only-of-type {\n",
       "        vertical-align: middle;\n",
       "    }\n",
       "\n",
       "    .dataframe tbody tr th {\n",
       "        vertical-align: top;\n",
       "    }\n",
       "\n",
       "    .dataframe thead th {\n",
       "        text-align: right;\n",
       "    }\n",
       "</style>\n",
       "<table border=\"1\" class=\"dataframe\">\n",
       "  <thead>\n",
       "    <tr style=\"text-align: right;\">\n",
       "      <th></th>\n",
       "      <th>author</th>\n",
       "      <th>content</th>\n",
       "      <th>description</th>\n",
       "      <th>photo_url</th>\n",
       "      <th>pub_date</th>\n",
       "      <th>source</th>\n",
       "      <th>title</th>\n",
       "      <th>url</th>\n",
       "    </tr>\n",
       "  </thead>\n",
       "  <tbody>\n",
       "    <tr>\n",
       "      <td>0</td>\n",
       "      <td>Lisa Rowan</td>\n",
       "      <td>Its hurricane season, and weve got a weirdo st...</td>\n",
       "      <td>It’s hurricane season, and we’ve got a weirdo ...</td>\n",
       "      <td>https://i.kinja-img.com/gawker-media/image/upl...</td>\n",
       "      <td>2019-07-10</td>\n",
       "      <td>NaN</td>\n",
       "      <td>Never Try To Drive Through a Flood</td>\n",
       "      <td>https://lifehacker.com/never-try-to-drive-thro...</td>\n",
       "    </tr>\n",
       "    <tr>\n",
       "      <td>1</td>\n",
       "      <td>Yessenia Funes on Earther, shared by Virginia ...</td>\n",
       "      <td>Tropical Storm Barry still doesnt formally exi...</td>\n",
       "      <td>Tropical Storm Barry still doesn’t formally ex...</td>\n",
       "      <td>https://i.kinja-img.com/gawker-media/image/upl...</td>\n",
       "      <td>2019-07-11</td>\n",
       "      <td>NaN</td>\n",
       "      <td>New Orleans Faces a Major Flood Threat [Updating]</td>\n",
       "      <td>https://earther.gizmodo.com/new-orleans-faces-...</td>\n",
       "    </tr>\n",
       "    <tr>\n",
       "      <td>2</td>\n",
       "      <td>NaN</td>\n",
       "      <td>Chat with us in Facebook Messenger. Find out w...</td>\n",
       "      <td>A flash flood emergency in Washington left roa...</td>\n",
       "      <td>https://cdn.cnn.com/cnnnext/dam/assets/1907081...</td>\n",
       "      <td>2019-07-08</td>\n",
       "      <td>cnn</td>\n",
       "      <td>Torrential rain floods Washington area</td>\n",
       "      <td>https://www.cnn.com/videos/us/2019/07/08/dc-me...</td>\n",
       "    </tr>\n",
       "    <tr>\n",
       "      <td>3</td>\n",
       "      <td>NaN</td>\n",
       "      <td>Chat with us in Facebook Messenger. Find out w...</td>\n",
       "      <td>As tropical storm Barry nears the coast of Lou...</td>\n",
       "      <td>https://cdn.cnn.com/cnnnext/dam/assets/1907122...</td>\n",
       "      <td>2019-07-13</td>\n",
       "      <td>cnn</td>\n",
       "      <td>Nearly 5 million people under flash flood watch</td>\n",
       "      <td>https://www.cnn.com/videos/weather/2019/07/13/...</td>\n",
       "    </tr>\n",
       "    <tr>\n",
       "      <td>4</td>\n",
       "      <td>NaN</td>\n",
       "      <td>Chat with us in Facebook Messenger. Find out w...</td>\n",
       "      <td>Golden Meadow Police released this video showi...</td>\n",
       "      <td>https://cdn.cnn.com/cnnnext/dam/assets/1907131...</td>\n",
       "      <td>2019-07-13</td>\n",
       "      <td>cnn</td>\n",
       "      <td>Watch: Louisiana road ends abruptly as flood w...</td>\n",
       "      <td>https://www.cnn.com/videos/weather/2019/07/13/...</td>\n",
       "    </tr>\n",
       "  </tbody>\n",
       "</table>\n",
       "</div>"
      ],
      "text/plain": [
       "                                              author  \\\n",
       "0                                         Lisa Rowan   \n",
       "1  Yessenia Funes on Earther, shared by Virginia ...   \n",
       "2                                                NaN   \n",
       "3                                                NaN   \n",
       "4                                                NaN   \n",
       "\n",
       "                                             content  \\\n",
       "0  Its hurricane season, and weve got a weirdo st...   \n",
       "1  Tropical Storm Barry still doesnt formally exi...   \n",
       "2  Chat with us in Facebook Messenger. Find out w...   \n",
       "3  Chat with us in Facebook Messenger. Find out w...   \n",
       "4  Chat with us in Facebook Messenger. Find out w...   \n",
       "\n",
       "                                         description  \\\n",
       "0  It’s hurricane season, and we’ve got a weirdo ...   \n",
       "1  Tropical Storm Barry still doesn’t formally ex...   \n",
       "2  A flash flood emergency in Washington left roa...   \n",
       "3  As tropical storm Barry nears the coast of Lou...   \n",
       "4  Golden Meadow Police released this video showi...   \n",
       "\n",
       "                                           photo_url    pub_date source  \\\n",
       "0  https://i.kinja-img.com/gawker-media/image/upl...  2019-07-10    NaN   \n",
       "1  https://i.kinja-img.com/gawker-media/image/upl...  2019-07-11    NaN   \n",
       "2  https://cdn.cnn.com/cnnnext/dam/assets/1907081...  2019-07-08    cnn   \n",
       "3  https://cdn.cnn.com/cnnnext/dam/assets/1907122...  2019-07-13    cnn   \n",
       "4  https://cdn.cnn.com/cnnnext/dam/assets/1907131...  2019-07-13    cnn   \n",
       "\n",
       "                                               title  \\\n",
       "0                 Never Try To Drive Through a Flood   \n",
       "1  New Orleans Faces a Major Flood Threat [Updating]   \n",
       "2             Torrential rain floods Washington area   \n",
       "3    Nearly 5 million people under flash flood watch   \n",
       "4  Watch: Louisiana road ends abruptly as flood w...   \n",
       "\n",
       "                                                 url  \n",
       "0  https://lifehacker.com/never-try-to-drive-thro...  \n",
       "1  https://earther.gizmodo.com/new-orleans-faces-...  \n",
       "2  https://www.cnn.com/videos/us/2019/07/08/dc-me...  \n",
       "3  https://www.cnn.com/videos/weather/2019/07/13/...  \n",
       "4  https://www.cnn.com/videos/weather/2019/07/13/...  "
      ]
     },
     "execution_count": 27,
     "metadata": {},
     "output_type": "execute_result"
    }
   ],
   "source": [
    "mega_data.head()"
   ]
  },
  {
   "cell_type": "markdown",
   "metadata": {},
   "source": [
    "### Removing Mega Data duplicates"
   ]
  },
  {
   "cell_type": "code",
   "execution_count": 28,
   "metadata": {},
   "outputs": [],
   "source": [
    "mega_data.drop_duplicates(inplace= True)"
   ]
  },
  {
   "cell_type": "code",
   "execution_count": 29,
   "metadata": {},
   "outputs": [
    {
     "data": {
      "text/plain": [
       "(11151, 8)"
      ]
     },
     "execution_count": 29,
     "metadata": {},
     "output_type": "execute_result"
    }
   ],
   "source": [
    "mega_data.shape"
   ]
  },
  {
   "cell_type": "markdown",
   "metadata": {},
   "source": [
    "### Converting to CSV's "
   ]
  },
  {
   "cell_type": "code",
   "execution_count": 30,
   "metadata": {},
   "outputs": [],
   "source": [
    "fire_comb.to_csv('2.processed_data/fire_comb.csv', index = False)\n",
    "blizzard_comb.to_csv('2.processed_data/blizzard_comb.csv', index = False)\n",
    "earthquake_comb.to_csv('2.processed_data/earthquake_comb.csv', index = False)\n",
    "flood_comb.to_csv('2.processed_data/flood_comb.csv', index = False)\n",
    "hurricane_comb.to_csv('2.processed_data/hurricane_comb.csv', index = False)\n",
    "tornado_comb.to_csv('2.processed_data/tornado_comb.csv', index = False)\n",
    "mega_data.to_csv('2.processed_data/mega_data.csv', index = False)"
   ]
  }
 ],
 "metadata": {
  "kernelspec": {
   "display_name": "Python 3",
   "language": "python",
   "name": "python3"
  },
  "language_info": {
   "codemirror_mode": {
    "name": "ipython",
    "version": 3
   },
   "file_extension": ".py",
   "mimetype": "text/x-python",
   "name": "python",
   "nbconvert_exporter": "python",
   "pygments_lexer": "ipython3",
   "version": "3.7.4"
  }
 },
 "nbformat": 4,
 "nbformat_minor": 2
}
